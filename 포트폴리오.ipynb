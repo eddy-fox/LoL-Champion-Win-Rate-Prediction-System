{
 "cells": [
  {
   "cell_type": "markdown",
   "metadata": {
    "id": "nGiHvxTImAJf"
   },
   "source": [
    "# **프로젝트**"
   ]
  },
  {
   "cell_type": "markdown",
   "metadata": {
    "id": "Or-iZxZlVMB_"
   },
   "source": [
    "# 프로젝트 명:\n",
    "리그오브레전드 챔피언 특성을 기반으로 하여 챔피언 상성과 승률을 고려한 티어별 및 조합별 승률 예측 시스템"
   ]
  },
  {
   "cell_type": "markdown",
   "metadata": {
    "id": "mEDsi-9DWtSI"
   },
   "source": [
    "# 목차\n",
    "A. 프로젝트 개요\n",
    "  - 프로젝트명\n",
    "  - 프로젝트를 들어가며\n",
    "  - 사용된 개발환경, 패키지, 툴, 응용프로그램\n",
    "  - 프로젝트의 목표\n",
    "\n",
    "B. 작업 계획\n",
    "  - gantt chart\n",
    "  - 작업 순서도\n",
    "\n",
    "C. 데이터 처리 및 분석\n",
    "  - phase 1. 데이터 수집/저장\n",
    "    - 1.1 데이터 소스 설명\n",
    "    - 1.2 데이터 수집 방법\n",
    "  - phase 2. 데이터 전처리\n",
    "  - phase 3. 통계학적 분석/ 시각화\n",
    "    - 3.1 데이터 탐색\n",
    "    - 3.2 시각화 도구 및 기법\n",
    "    - 3.3 통계적 분석의 결론\n",
    "\n",
    "D. 모델링 및 평가\n",
    "  - phase 4. 머신러닝\n",
    "    - 4.1 모델 선택\n",
    "    - 4.2 머신러닝 (데이터 준비/인코딩, 모델 학습, 하이퍼파라미터 튜닝, 모델 개선)\n",
    "    - 4.3 모델 평가\n",
    "    - 4.4 예측결과 및 시각화\n",
    "    - 4.5 예측결과와 결론\n",
    "\n",
    "E. 응용 및 배포\n",
    " - phase 5. 응용 어플리케이션\n",
    "  - 5.1 개요 및 알고리즘\n",
    "  - 5.2 플랫폼\n",
    "  - 5.3 백엔드 및 UI\n",
    "  - 5.4 테스트\n",
    "  - 5.5 소스코드\n",
    "  - 5.6 피드백\n",
    "\n",
    "F. 마무리"
   ]
  },
  {
   "cell_type": "markdown",
   "metadata": {
    "id": "Szc2oi0kP0LE"
   },
   "source": [
    "# A. 프로젝트 개요"
   ]
  },
  {
   "cell_type": "markdown",
   "metadata": {
    "id": "VllFJ5e3QhcE"
   },
   "source": [
    "## 프로젝트명\n",
    "리그오브레전드 챔피언 특성을 기반으로 하여 챔피언 상성과 승률을 고려한 티어별 및 조합별 승률 예측 시스템"
   ]
  },
  {
   "cell_type": "markdown",
   "metadata": {
    "id": "IuYQjcQ-QHUn"
   },
   "source": [
    "## 프로젝트를 들어가며"
   ]
  },
  {
   "cell_type": "markdown",
   "metadata": {
    "id": "4GpKJWQWQO97"
   },
   "source": [
    "리그 오브 레전드는 전략적인 챔피언 선택이 게임의 승패에 큰 영향을 미치는 팀 기반 MOBA 게임이다. 그러나 많은 플레이어들은 특정 챔피언에 익숙해져 있어 새로운 챔피언을 선택하는 데 어려움을 느끼거나, 팀 조합의 시너지보다 개인적인 선호도를 우선하여 챔피언을 선택하는 경향이 있다. 이는 팀 조합의 완성도를 저해하고, 상대와의 상성을 충분히 고려하지 못하게 만들어 경기에서 최적의 선택을 하지 못할 가능성을 높인다. <br><br>\n",
    "\n",
    "개인적으로도 게임을 플레이할 때, 내가 가장 자신 있는 챔피언과 조합적으로 시너지가 좋은 챔피언 중 어느 쪽을 선택해야 할지 고민하는 경우가 많았다. 이러한 상황에서 개인 숙련도가 높은 챔피언을 선택하는 것이 더 나은지, 아니면 조합상 유리한 챔피언을 고르는 것이 승리 확률을 높이는 데 더 효과적인지에 대한 판단이 쉽지 않았다.<br><br>\n",
    "\n",
    "이러한 문제를 해결하기 위해, 챔피언의 특성과 상성을 분석하여 티어별·조합별 승률을 예측하는 시스템을 개발하고자 한다. 이 시스템은 사용자가 선호하는 챔피언과 가장 높은 승률을 기대할 수 있는 챔피언을 추천함으로써 전략적인 선택을 지원할 뿐만 아니라, 자주 플레이하지 않는 챔피언에 대한 관심을 유도하여 플레이 스타일을 확장할 기회를 제공한다. 이를 통해 기존보다 더욱 몰입감 있는 게임 경험을 제공하고, 승리를 위한 정교한 전략 수립을 가능하게 할 것이다.\n"
   ]
  },
  {
   "cell_type": "markdown",
   "metadata": {
    "id": "As3SL-_CQnbU"
   },
   "source": [
    "### 사용된 개발환경, 패키지, 툴, 응용프로그램"
   ]
  },
  {
   "cell_type": "markdown",
   "metadata": {
    "id": "OjHWzUdyIV_H"
   },
   "source": [
    "프로그래밍 언어: Python3 (3.12.5) <br>\n",
    "데이터 수집: Selenium, BeautifulSoup, request<br>\n",
    "데이터 전처리: pandas, numpy, matplotlib, seaborn<br>\n",
    "데이터 분석: pandas, numpy, matplotlib, seaborn<br>\n",
    "머신러닝 패키지: sklearn<br>\n",
    "머신러닝 알고리즘: XGBRegressor, SVR, RandomForestRegressor, XGBClassifier<br>"
   ]
  },
  {
   "cell_type": "markdown",
   "metadata": {
    "id": "s5oS7NluEhwM"
   },
   "source": [
    "# 프로젝트에 고려할 수 있는 AI 서비스 & API (유, 무료)\n",
    "\n",
    "- op.gg(website) : 티어별 랭커 정보\n",
    "- lol.ps(website) : 티어별 랭커 개별 상세정보 및 티어별 챔피언 랭킹정보\n",
    "- Riot developer Portal : 유저 및 게임 데이터"
   ]
  },
  {
   "cell_type": "markdown",
   "metadata": {
    "id": "uqAavopzQTo7"
   },
   "source": [
    "## 프로젝트의 목표\n",
    "챔피언 특성과 상성을 기반으로 티어별·조합별 승률을 예측하여 최적의 챔피언 선택을 지원하는 시스템을 개발한다. 이를 통해 유저가 전략적인 선택을 할 수 있도록 돕고, 다양한 챔피언 활용을 촉진하여 게임 경험을 확장한다."
   ]
  },
  {
   "cell_type": "markdown",
   "metadata": {
    "id": "bpBCbSDMQ3tu"
   },
   "source": [
    "# B. 작업계획"
   ]
  },
  {
   "cell_type": "markdown",
   "metadata": {
    "id": "JR_qMzkTQ-rj"
   },
   "source": [
    "## [Gantt chart](https://docs.google.com/spreadsheets/d/1jOxbR0bqdyfndENKvOTGIT6LHPWmbg3oGZS7n3sVzIc/edit?usp=sharing)"
   ]
  },
  {
   "cell_type": "markdown",
   "metadata": {
    "id": "e0DDtXiwRDWV"
   },
   "source": [
    "## 작업순서도\n",
    "<img src=\"https://i.imgur.com/e4Wa3sW.png\" width=\"500\">"
   ]
  },
  {
   "cell_type": "markdown",
   "metadata": {
    "id": "PCxlOH6rJu08"
   },
   "source": [
    "## 응용프로그램 순서도\n",
    "\n",
    "내가 만든 프로그램이 어떻게 돌아가는지"
   ]
  },
  {
   "cell_type": "markdown",
   "metadata": {
    "id": "J0Bz0URBRS8y"
   },
   "source": [
    "# C. 데이터 처리 및 분석"
   ]
  },
  {
   "cell_type": "markdown",
   "metadata": {
    "id": "eFgk61kNRtoL"
   },
   "source": [
    "## Phase1. 데이터 수집 및 저장"
   ]
  },
  {
   "cell_type": "markdown",
   "metadata": {},
   "source": [
    "[데이터수집 Code File(Github)](https://github.com/eddy-fox/LoL-Champion-Win-Rate-Prediction-System/blob/3936cb0e26ed1286e674c9a276f0877390eb40e6/%EB%8D%B0%EC%9D%B4%ED%84%B0%EC%88%98%EC%A7%91code.ipynb)"
   ]
  },
  {
   "cell_type": "markdown",
   "metadata": {
    "id": "opsUYVg_SBIL"
   },
   "source": [
    "### 1.1 데이터 소스 설명"
   ]
  },
  {
   "cell_type": "markdown",
   "metadata": {},
   "source": [
    "##### - Platinum 이상 티어별 탑200 유저의 주 챔피언과 포지션 데이터프레임(df_user_info)\n",
    "1. 출처 : op.gg, lol.ps (website)\n",
    "2. 데이터프레임 예시:<br>\n",
    "\n",
    "|Tier|닉네임|주챔피언|게임횟수|승리횟수|포지션|포지션게임횟수|\n",
    "|-----------|----------------------|------------|----------|----------|--------|-------------|\n",
    "| Platinum |BlackGentle #BNG|갱플랭크|44|25|탑|152|\n",
    "| Platinum  | 조랭이 #2446         | 스몰더      | 23       | 10       | 미드   | 84           |\n",
    "| Platinum  | hariboliabear #KR1  | 볼리베어    | 12       | 6        | 탑     | 20           |\n",
    "| Platinum  | 그거분신인데 #KR5   | 세나        | 25       | 17       | 서폿   | 100           |\n",
    "| Platinum  | 치핵남 #KR1         | 리 신       | 34       | 21       | 정글   | 54            |\n",
    "\n",
    "3. 데이터크기(shape) : (1196,7)\n",
    "\n",
    "\n",
    "\n",
    "##### - 티어별 게임기록 데이터프레임(df_match_combi)\n",
    "1. 출처 : Riot Developer Portal (API)\n",
    "2. 데이터프레임 예시:\n",
    "\n",
    "| 티어 | 탑 | 정글 | 미드 | 원딜 | 서폿 | 승리여부 |\n",
    "|-|-|-|-|-|-|-|\n",
    "|Platinum|블라디미르|워윅|토르|이즈리얼|말파이트|1|\n",
    "\n",
    "\n",
    "3. 데이터크기(shape): (120000, 6)\n",
    "\n",
    "\n",
    "##### - 티어별 챔피언 순위 데이터프레임 (df_champ_info)\n",
    "1. 출처 : lol.ps (website)\n",
    "2. 데이터프레임 예시 : \n",
    "\n",
    "| 티어 | 챔피언 순위 | 챔피언 | 라인 | 승률 | 픽률 | 밴률 | 플레이횟수 |\n",
    "|-|-|-|-|-|-|-|-|\n",
    "|Platinum|1|갱플랭크|정글|52%|50%|50%|13900|\n",
    "\n",
    "3. 데이터크기(shape) : (1434,8)\n"
   ]
  },
  {
   "cell_type": "markdown",
   "metadata": {
    "id": "1ldjhXE8SEHi"
   },
   "source": [
    "### 1.2 데이터 수집 방법"
   ]
  },
  {
   "cell_type": "markdown",
   "metadata": {},
   "source": [
    "웹크롤링, Riot developer Portal의 API 활용"
   ]
  },
  {
   "cell_type": "markdown",
   "metadata": {
    "id": "rNbA3vR6R1Bk"
   },
   "source": [
    "## Phase2. 데이터 전처리\n",
    "\n",
    "크롤링 및 API이용시에 결측치나 누락치 없이 모두 수집 완료했으므로 일반적인 전처리 과정까지 완료됨"
   ]
  },
  {
   "cell_type": "markdown",
   "metadata": {
    "id": "72CxDmUmR0As"
   },
   "source": [
    "## Phase3. 통계학적 분석 및 시각화"
   ]
  },
  {
   "cell_type": "markdown",
   "metadata": {
    "id": "0V_srT5TSY_9"
   },
   "source": [
    "### 3.1 데이터 탐색"
   ]
  },
  {
   "cell_type": "markdown",
   "metadata": {
    "id": "EJ7P2PwjTwOj"
   },
   "source": [
    "[데이터분석 Code File(Github)](https://github.com/eddy-fox/LoL-Champion-Win-Rate-Prediction-System/blob/3936cb0e26ed1286e674c9a276f0877390eb40e6/%EB%8D%B0%EC%9D%B4%ED%84%B0%EB%B6%84%EC%84%9Dcode.ipynb)"
   ]
  },
  {
   "cell_type": "markdown",
   "metadata": {
    "id": "PDDJPo4TScti"
   },
   "source": [
    "### 3.2 시각화 도구 및 기법"
   ]
  },
  {
   "cell_type": "markdown",
   "metadata": {},
   "source": [
    "python library <br>\n",
    "padnas, numpy, scipy, matplotlib, seaborn ace_tools_open, scikit-learn"
   ]
  },
  {
   "cell_type": "markdown",
   "metadata": {
    "id": "dIRkdhiNSeV6"
   },
   "source": [
    "### 3.3 통계적 분석의 결론\n",
    "\n",
    "(1) 티어별 챔피언 성능 분석 <br>\n",
    "\n",
    "- 티어가 올라갈수록 승률이 50% 수준에서 균형을 이루는 경향이 나타남<br>\n",
    "- 픽률이 높은 챔피언일수록 승률이 반드시 높은 것은 아님<br>\n",
    "- 밴률이 높은 챔피언이 특정 티어에서 중요한 변수로 작용<br><br>\n",
    "\n",
    "(2) 조합별 승률 분석<br>\n",
    "\n",
    "- 일부 조합이 60% 이상의 높은 승률을 기록 <br>\n",
    "- 정글과 미드 조합이 승률에 가장 큰 영향을 미침<br>\n",
    "- 서포터 챔피언이 CC(군중제어) 능력을 가질 경우 승률 상승 경향 확인<br>\n",
    "- 특정 조합은 승률이 **0.2%**로 기록될 만큼 시너지가 낮음<br><br>\n",
    "\n",
    "(3) 승률이 높은 챔피언 TOP 10<br>\n",
    "\n",
    "- 높은 승률을 기록한 챔피언은 티어별 차이 없이 강세를 보임<br>\n",
    "- 다목적 챔피언(여러 포지션 가능)이 높은 승률을 기록<br><br>\n",
    "\n",
    "(4) 밴률이 높은 챔피언 TOP 10<br>\n",
    "\n",
    "- 특정 챔피언은 72% 이상의 높은 밴률을 기록하며, 게임에서 강한 영향력을 보임"
   ]
  },
  {
   "cell_type": "markdown",
   "metadata": {
    "id": "n4RsS7lgSqNX"
   },
   "source": [
    "# D.모델링 및 평가"
   ]
  },
  {
   "cell_type": "markdown",
   "metadata": {
    "id": "ziLJbAzvStoq"
   },
   "source": [
    "## phase 4. 머신러닝"
   ]
  },
  {
   "cell_type": "markdown",
   "metadata": {
    "id": "cOX41TOWSvp9"
   },
   "source": [
    "### 4.1 모델 선택\n",
    "- 회귀1 : 티어별 top 200 플레이어와 티어별 챔피언 랭킹을 병합하여 랭킹과 포지션 게임횟수를 반영한 승률을 설정 후 최적의 알고리즘을 파악 후 적용\n",
    "- 회귀2 : 챔피언 간의 상호작용 변수를 추가한 후 PCA를 사용하여 차원을 축소시켜 유효한 조합만 남긴 후 최적의 알고리즘을 파악 후 적용"
   ]
  },
  {
   "cell_type": "markdown",
   "metadata": {
    "id": "FNw_UETSTAUa"
   },
   "source": [
    "### 4.2 머신러닝 (데이터 준비/인코딩, 모델 학습, 하이퍼파라미터 튜닝, 모델 개선)\n"
   ]
  },
  {
   "cell_type": "markdown",
   "metadata": {},
   "source": [
    "[머신러닝 Code File](./머신러닝code.ipynb) "
   ]
  },
  {
   "cell_type": "markdown",
   "metadata": {
    "id": "J43WQYKYTC1s"
   },
   "source": [
    "### 4.3 모델 평가\n"
   ]
  },
  {
   "cell_type": "markdown",
   "metadata": {
    "id": "B9JS93hJTEFM"
   },
   "source": [
    "### 4.4 예측결과 및 시각화\n",
    "\n",
    "예측결과와 통계적 분석의 결론을 꼭! 비교해야함"
   ]
  },
  {
   "cell_type": "markdown",
   "metadata": {
    "id": "hAG55G27THOC"
   },
   "source": [
    "### 4.5 결론"
   ]
  },
  {
   "cell_type": "markdown",
   "metadata": {
    "id": "nlSzYjNJTMRc"
   },
   "source": [
    "# E. 응용 및 배포"
   ]
  },
  {
   "cell_type": "markdown",
   "metadata": {
    "id": "82CLMUrRTQLA"
   },
   "source": [
    "## phase 5. 응용 어플리케이션"
   ]
  },
  {
   "cell_type": "markdown",
   "metadata": {
    "id": "36YQ9Ry3TR-X"
   },
   "source": [
    "### 5.1 개요 및 알고리즘\n",
    "\n",
    "게임에서 챔피언 선택의 특성상, 첫 4명의 챔피언 선택시에는 회귀모델을 이용하여 해당 유저의 티어와 포지션 게임횟수를 고려한 챔피언 승률을 표시하고, 마지막 챔피언 선택자는 XGboost 기반 조합별 승률예측 모델을 이용하여 앞에서 모두 선택된 챔피언들과 마지막 선택 챔피언의 조합별 승률을 표시한다.\n"
   ]
  },
  {
   "cell_type": "markdown",
   "metadata": {
    "id": "XZ8oXpaETdbS"
   },
   "source": [
    "### 5.2 플랫폼\n",
    "게임 플레이 시에, 게임창 위에 UI오버레이를 사용하여 챔피언 선택시 즉각적인 상호작용이 가능하도록 구상했으나 현재로서는 직접 구현이 어려우므로 Figma의 프로토타입 페이지를 활용함 "
   ]
  },
  {
   "cell_type": "markdown",
   "metadata": {
    "id": "V-YpkhSfTelj"
   },
   "source": [
    "### 5.3 UI\n",
    "- 첫 4명의 챔피언 선택 시 : https://www.figma.com/proto/6QnuTb2gaELmE5Fobon6e0/LOL-champion-pick-1st?node-id=9-29&t=LTdAObovdXMIPiPS-0&scaling=contain&content-scaling=fixed&page-id=0%3A1&starting-point-node-id=9%3A29\n",
    "- 마지막 유저의 챔피언 선택 시 : https://www.figma.com/proto/bv0fhJRqwzdnj00RqCKmVZ/LOL-champion-pick-last?node-id=1-2&p=f&t=v95Up8FkKQOcKS4o-0&scaling=contain&content-scaling=fixed&page-id=0%3A1"
   ]
  },
  {
   "cell_type": "markdown",
   "metadata": {
    "id": "OqoAJW1lTgDb"
   },
   "source": [
    "### 5.4 테스트\n",
    "\n",
    "긍정, 부정+개선사항 후 피드백도 추가\n"
   ]
  },
  {
   "cell_type": "markdown",
   "metadata": {
    "id": "nNgq_P1IThVT"
   },
   "source": [
    "### 5.5 소스코드\n"
   ]
  },
  {
   "cell_type": "markdown",
   "metadata": {
    "id": "HQAP5Ap-TiC-"
   },
   "source": [
    "### 5.6 피드백\n",
    "\n",
    "시뮬레이션 후 결과도 첨부하면 좋음\n",
    "\n",
    "완벽해야하는것 X\n",
    "내가 해온 것, 그것에 대한 평가, 앞으로 개선 혹은 나아갈 방향제시가 더 중요"
   ]
  },
  {
   "cell_type": "markdown",
   "metadata": {
    "id": "kMdGHed-Tj8q"
   },
   "source": [
    "# F.마무리"
   ]
  },
  {
   "cell_type": "markdown",
   "metadata": {
    "id": "1PPpAqJ5UJL8"
   },
   "source": [
    "( 프로젝트의 전체적인 성과와 배운 점을 정리하고, 향후 개선 사항이나 추가할 내용에 대해 간략히 설명합니다.)"
   ]
  }
 ],
 "metadata": {
  "colab": {
   "provenance": [],
   "toc_visible": true
  },
  "kernelspec": {
   "display_name": "Python 3",
   "name": "python3"
  },
  "language_info": {
   "codemirror_mode": {
    "name": "ipython",
    "version": 3
   },
   "file_extension": ".py",
   "mimetype": "text/x-python",
   "name": "python",
   "nbconvert_exporter": "python",
   "pygments_lexer": "ipython3",
   "version": "3.12.6"
  }
 },
 "nbformat": 4,
 "nbformat_minor": 0
}
